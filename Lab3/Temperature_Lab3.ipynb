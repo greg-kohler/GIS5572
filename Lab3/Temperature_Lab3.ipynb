{
 "cells": [
  {
   "cell_type": "code",
   "execution_count": 29,
   "metadata": {},
   "outputs": [],
   "source": [
    "import arcpy\n",
    "import psycopg2\n",
    "import os\n",
    "import random"
   ]
  },
  {
   "cell_type": "markdown",
   "metadata": {},
   "source": [
    "#### Get Current Directory and Create Geodatabase"
   ]
  },
  {
   "cell_type": "code",
   "execution_count": 26,
   "metadata": {
    "scrolled": true
   },
   "outputs": [
    {
     "name": "stdout",
     "output_type": "stream",
     "text": [
      "Geodatabase already exists.\n"
     ]
    }
   ],
   "source": [
    "directory = os.getcwd()\n",
    "arcpy.env.workspace = directory\n",
    "gdb = \"Lab3\"\n",
    "\n",
    "# Check if the geodatabase exists\n",
    "if not arcpy.Exists(gdb + \".gdb\"):\n",
    "    # Create the geodatabase\n",
    "    arcpy.CreateFileGDB_management(arcpy.env.workspace, gdb)\n",
    "    print(\"Geodatabase created.\")\n",
    "else:\n",
    "    print(\"Geodatabase already exists.\")\n",
    "    \n",
    "db = os.path.join(directory + \"\\Lab3.gdb\")"
   ]
  },
  {
   "cell_type": "markdown",
   "metadata": {},
   "source": [
    "### Connect to Cloud Geodatabase"
   ]
  },
  {
   "cell_type": "code",
   "execution_count": 49,
   "metadata": {},
   "outputs": [
    {
     "data": {
      "text/html": [
       "<div class='gpresult'><h2>Messages</h2><div id='messages' data-messages='[\"Start Time: Thursday, March 21, 2024 1:22:32 PM\",\"Succeeded at Thursday, March 21, 2024 1:22:36 PM (Elapsed Time: 4.03 seconds)\"]' data-show='true'><div id = 'default' /></div></div>"
      ],
      "text/plain": [
       "<Result '\\\\\\\\Mac\\\\Home\\\\Documents\\\\ArcGIS\\\\Projects\\\\5572-Lab3\\\\Lab3.gdb\\\\Lab3.sde'>"
      ]
     },
     "execution_count": 49,
     "metadata": {},
     "output_type": "execute_result"
    }
   ],
   "source": [
    "# Connect to the database\n",
    "connection = psycopg2.connect(\n",
    "    dbname=\"gis5572\",\n",
    "    user=user,\n",
    "    password=password,\n",
    "    host=host,\n",
    "    port=\"5432\"\n",
    ")\n",
    "\n",
    "#create connection to cloud database\n",
    "out_folder_path = arcpy.env.workspace\n",
    "out_name = \"Lab3.sde\"\n",
    "database_platform = \"POSTGRESQL\"\n",
    "instance = host\n",
    "account_authentication = \"DATABASE_AUTH\"\n",
    "username = user\n",
    "password = password\n",
    "save_user_pass = \"SAVE_USERNAME\"\n",
    "database = \"gis5572\"\n",
    "#actual database connection\n",
    "arcpy.management.CreateDatabaseConnection(out_folder_path, out_name, database_platform, instance, account_authentication, username, password, save_user_pass, database)"
   ]
  },
  {
   "cell_type": "markdown",
   "metadata": {},
   "source": [
    "### Get Temperature Data"
   ]
  },
  {
   "cell_type": "code",
   "execution_count": 39,
   "metadata": {},
   "outputs": [],
   "source": [
    "# Create cursor to go through data\n",
    "cursor = connection.cursor()\n",
    "# Get point data using query\n",
    "query = \"\"\"SELECT field1, date, station, value_max, value_min, latitude, longitude \n",
    "FROM temperature_data\n",
    "WHERE date = '12/24/2023';\"\"\"\n",
    "cursor.execute(query)\n",
    "rows = cursor.fetchall()\n",
    "\n",
    "# Create  feature class\n",
    "temp_fc = os.path.join(db, \"temp_points\")\n",
    "spatial_ref = arcpy.SpatialReference(4326)\n",
    "spatial_ref_utm = arcpy.SpatialReference(26915)\n",
    "if arcpy.Exists(temp_fc):\n",
    "    arcpy.Delete_management(temp_fc)\n",
    "arcpy.CreateFeatureclass_management(db, \"temp_points\", \"POINT\", spatial_reference=spatial_ref)\n",
    "\n",
    "# Add a field to store additional attributes if needed\n",
    "arcpy.AddField_management(temp_fc, \"field1\", \"LONG\")\n",
    "arcpy.AddField_management(temp_fc, \"date\", \"DATE\")\n",
    "arcpy.AddField_management(temp_fc, \"station\", \"TEXT\")\n",
    "arcpy.AddField_management(temp_fc, \"value_max\", \"DOUBLE\")\n",
    "arcpy.AddField_management(temp_fc, \"value_min\", \"DOUBLE\")\n",
    "arcpy.AddField_management(temp_fc, \"latitude\", \"DOUBLE\")\n",
    "arcpy.AddField_management(temp_fc, \"longitude\", \"DOUBLE\")\n",
    "# Create an insert cursor\n",
    "insert_cursor = arcpy.da.InsertCursor(temp_fc, [\"shape\", \"field1\", \"date\", \"station\", \"value_max\", \"value_min\", \"latitude\", \"longitude\"]) \n",
    "\n",
    "# Iterate through the rows and insert points into the feature class\n",
    "for row in rows:\n",
    "    field1 = row[0]\n",
    "    date = row[1]\n",
    "    station = row[2]\n",
    "    value_max = row[3]\n",
    "    value_min = row[4]\n",
    "    y = float(row[5])\n",
    "    x = float(row[6])\n",
    "    # Extract x, y coordinates from WKT\n",
    "    point = arcpy.Point(x,y)\n",
    "    shape = arcpy.PointGeometry(point, spatial_ref)\n",
    "    utm_shape = shape.projectAs(spatial_ref_utm)\n",
    "    # Insert the point into the feature class\n",
    "    insert_cursor.insertRow([utm_shape, field1, date, station, value_max, value_min, y, x])\n",
    "\n",
    "# Close cursors and connections\n",
    "del insert_cursor\n",
    "cursor.close()\n",
    "connection.close()"
   ]
  },
  {
   "cell_type": "markdown",
   "metadata": {},
   "source": [
    "## Sample\n",
    "\n",
    "Justification: By using 90% of the data to train the model, it gets enough information to understand the patterns and connections in the data. Having more data also helps to make the model less biased. This means it gives more accurate results. Keeping 10% of the data aside helps to check if the model's findings apply generally to different sets of data without just memorizing the training data. This way of splitting the data helps to test and confirm how well the model works, especially because real-world data can vary a lot. With more data, we can also spot any unusual things in the data and make sure the model still works well with the rest of the data"
   ]
  },
  {
   "cell_type": "code",
   "execution_count": 52,
   "metadata": {},
   "outputs": [],
   "source": [
    "# Input feature class\n",
    "temp_data = os.path.join(db, \"temp_points\")\n",
    "\n",
    "# Get count of features in the input dataset\n",
    "count = int(arcpy.GetCount_management(temp_data).getOutput(0))\n",
    "\n",
    "# Number to sample ~10%\n",
    "sample_size = int(count / 10)\n",
    "\n",
    "# Generate random indices for selecting points\n",
    "randoms = random.sample(range(count), sample_size)\n",
    "\n",
    "# Create feature classes for training and testing samples\n",
    "training_fc = os.path.join(db, \"Training_Temp\")\n",
    "testing_fc = os.path.join(db, \"Testing_Temp\")\n",
    "\n",
    "# Check if feature classes exist and delete if they do\n",
    "for fc in [training_fc, testing_fc]:\n",
    "    if arcpy.Exists(fc):\n",
    "        arcpy.Delete_management(fc)\n",
    "\n",
    "# Create empty feature classes to store selected points\n",
    "for fc in [training_fc, testing_fc]:\n",
    "    arcpy.CreateFeatureclass_management(\n",
    "        out_path=os.path.dirname(fc),\n",
    "        out_name=os.path.basename(fc),\n",
    "        geometry_type=\"POINT\",\n",
    "        spatial_reference=arcpy.Describe(temp_data).spatialReference\n",
    "    )\n",
    "\n",
    "# Get fields from the temperature data and add them to the feature classes\n",
    "fields = [field.name for field in arcpy.ListFields(temp_data) if field.type not in [\"OID\", \"Geometry\"]]\n",
    "for field_name in fields:\n",
    "    for fc in [training_fc, testing_fc]:\n",
    "        arcpy.AddField_management(fc, field_name, arcpy.ListFields(temp_data, field_name)[0].type)\n",
    "\n",
    "# Insert selected points into the appropriate feature classes\n",
    "with arcpy.da.SearchCursor(temp_data, [\"SHAPE@\"] + fields) as search_cursor:\n",
    "    with arcpy.da.Editor(db) as editor:\n",
    "        with arcpy.da.InsertCursor(training_fc, [\"SHAPE@\"] + fields) as training_cursor, \\\n",
    "                arcpy.da.InsertCursor(testing_fc, [\"SHAPE@\"] + fields) as testing_cursor:\n",
    "            for index, row in enumerate(search_cursor):\n",
    "                if index in randoms:\n",
    "                    testing_cursor.insertRow(row)\n",
    "                else:\n",
    "                    training_cursor.insertRow(row)"
   ]
  },
  {
   "cell_type": "markdown",
   "metadata": {},
   "source": [
    "### Leave One Out"
   ]
  },
  {
   "cell_type": "code",
   "execution_count": 42,
   "metadata": {},
   "outputs": [
    {
     "data": {
      "text/html": [
       "<div class='gpresult'><h2>Messages</h2><div id='messages' data-messages='[\"Start Time: Thursday, March 21, 2024 1:01:31 PM\",\"Calculating Kernel Interpolation\",\"Calculating Inverse Distance Weighted - Default\",\"Calculating Inverse Distance Weighted - Optimized\",\"Calculating Universal Kriging – Default\",\"Calculating Universal Kriging – Optimized\",\" \\n\",\"--------------------------------------------\",\"RANK | NAME\",\"--------------------------------------------\",\"\\n\",\"1    | Universal Kriging – Optimized\",\"\\n\",\"2    | Kernel Interpolation\",\"\\n\",\"3    | Universal Kriging – Default\",\"\\n\",\"4    | Inverse Distance Weighted - Optimized\",\"\\n\",\"5    | Inverse Distance Weighted - Default\",\"--------------------------------------------\",\"Succeeded at Thursday, March 21, 2024 1:01:43 PM (Elapsed Time: 11.67 seconds)\"]' data-show='true'><div id = 'default' /></div></div>"
      ],
      "text/plain": [
       "<Result '\\\\\\\\Mac\\\\Home\\\\Documents\\\\ArcGIS\\\\Projects\\\\5572-Lab3\\\\Lab3.gdb\\\\Temp_Explore_Interpolation'>"
      ]
     },
     "execution_count": 42,
     "metadata": {},
     "output_type": "execute_result"
    }
   ],
   "source": [
    "# Uses the training data to find best method\n",
    "arcpy.ga.ExploratoryInterpolation(\n",
    "    in_features=\"Training_Temp\",\n",
    "    value_field=\"value_max\",\n",
    "    out_cv_table= os.path.join(db, \"Temp_Explore_Interpolation\"),\n",
    "    out_geostat_layer=None,\n",
    "    interp_methods=\"KERNEL_INTERPOLATION;IDW;UNIVERSAL_KRIGING\",\n",
    "    comparison_method=\"SINGLE\",\n",
    "    criterion=\"ACCURACY\",\n",
    "    criteria_hierarchy=\"ACCURACY PERCENT #\",\n",
    "    weighted_criteria=\"ACCURACY 1\",\n",
    "    exclusion_criteria=None\n",
    ")"
   ]
  },
  {
   "cell_type": "markdown",
   "metadata": {},
   "source": [
    "#### Interpolation\n",
    "\n",
    "\n",
    "Kriging: \"An interpolation technique in which the surrounding measured values are weighted to derive a predicted value for an unmeasured location. Weights are based on the distance between the measured points, the prediction locations, and the overall spatial arrangement among the measured points (ESRI, 2024).\"\n",
    "\n",
    "Kernel Interpolation With Barriers: \"A moving window predictor that uses the shortest distance between points so that points on either side of the line barriers are connected.Kernel Interpolation is a variant of a first-order Local Polynomial Interpolation in which instability in the calculations is prevented using a method similar to the one used in the ridge regression to estimate the regression coefficients (ESRI, 2024).\"\n",
    "\n",
    "IDW: \"(IDW) interpolation determines cell values using a linearly weighted combination of a set of sample points. The weight is a function of inverse distance. The surface being interpolated should be that of a locationally dependent variable (ESRI, 2024).\""
   ]
  },
  {
   "cell_type": "code",
   "execution_count": 43,
   "metadata": {},
   "outputs": [],
   "source": [
    "#Kriging\n",
    "temp_kriging = arcpy.sa.Kriging(\n",
    "    in_point_features=\"Training_Temp\",\n",
    "    z_field=\"value_max\",\n",
    "    kriging_model=\"Spherical # # # #\",\n",
    "    cell_size=0.1,\n",
    "    search_radius=\"VARIABLE 12\",\n",
    "    out_variance_prediction_raster=None\n",
    ")\n",
    "temp_kriging.save(os.path.join(db, \"temp_kriging\"))"
   ]
  },
  {
   "cell_type": "code",
   "execution_count": 44,
   "metadata": {},
   "outputs": [],
   "source": [
    "#IDW\n",
    "temp_idw = arcpy.sa.Idw(\n",
    "    in_point_features=\"Training_Temp\",\n",
    "        z_field=\"value_max\",\n",
    "        cell_size=0.1,\n",
    "        power=2,\n",
    "        search_radius=\"VARIABLE 12\",\n",
    "        in_barrier_polyline_features=None\n",
    "    )\n",
    "temp_idw.save(os.path.join(db, \"temp_idw\"))"
   ]
  },
  {
   "cell_type": "code",
   "execution_count": 45,
   "metadata": {},
   "outputs": [
    {
     "data": {
      "text/html": [
       "<div class='gpresult'><h2>Messages</h2><div id='messages' data-messages='[\"Start Time: Thursday, March 21, 2024 1:14:29 PM\",\"Bandwidth = 1.225980872284645\",\"Succeeded at Thursday, March 21, 2024 1:14:50 PM (Elapsed Time: 21.32 seconds)\"]' data-show='true'><div id = 'default' /></div></div>"
      ],
      "text/plain": [
       "<Result 'None'>"
      ]
     },
     "execution_count": 45,
     "metadata": {},
     "output_type": "execute_result"
    }
   ],
   "source": [
    "#Kernel\n",
    "arcpy.ga.KernelInterpolationWithBarriers(\n",
    "    in_features=\"Training_Temp\",\n",
    "    z_field=\"value_max\",\n",
    "    out_ga_layer=\"None\",\n",
    "    out_raster=os.path.join(db, \"Temp_Kernel\"),\n",
    "    cell_size=0.1,\n",
    "    in_barrier_features=None,\n",
    "    kernel_function=\"POLYNOMIAL5\",\n",
    "    bandwidth=None,\n",
    "    power=1,\n",
    "    ridge=50,\n",
    "    output_type=\"PREDICTION\"\n",
    ")"
   ]
  },
  {
   "cell_type": "markdown",
   "metadata": {},
   "source": [
    "### Save Interpolated Maps to Geodatabase"
   ]
  },
  {
   "cell_type": "code",
   "execution_count": 51,
   "metadata": {},
   "outputs": [
    {
     "data": {
      "text/html": [
       "<div class='gpresult'><h2>Messages</h2><div id='messages' data-messages='[\"Start Time: Thursday, March 21, 2024 1:38:31 PM\",\"Converted \\\\\\\\Mac\\\\Home\\\\Documents\\\\ArcGIS\\\\Projects\\\\5572-Lab3\\\\Lab3.gdb\\\\Temp_Explore_Interpolation to \\\\\\\\Mac\\\\Home\\\\Documents\\\\ArcGIS\\\\Projects\\\\5572-Lab3\\\\Lab3.sde\\\\Temp_Explore_Interpolation successfully.\",\"Succeeded at Thursday, March 21, 2024 1:38:53 PM (Elapsed Time: 21.83 seconds)\"]' data-show='true'><div id = 'default' /></div></div>"
      ],
      "text/plain": [
       "<Result '\\\\\\\\Mac\\\\Home\\\\Documents\\\\ArcGIS\\\\Projects\\\\5572-Lab3\\\\Lab3.sde'>"
      ]
     },
     "execution_count": 51,
     "metadata": {},
     "output_type": "execute_result"
    }
   ],
   "source": [
    "#Convert Kriging to point\n",
    "arcpy.conversion.RasterToPoint(\n",
    "    in_raster=\"temp_kriging\",\n",
    "    out_point_features= os.path.join(db, \"temp_kriging_point\"),\n",
    "    raster_field=\"Value\"\n",
    ")\n",
    "#Save Kriging points to geodatabase\n",
    "arcpy.conversion.FeatureClassToGeodatabase(\n",
    "    Input_Features=\"temp_kriging_point\",\n",
    "    Output_Geodatabase= os.path.join(arcpy.env.workspace,\"Lab3.sde\")\n",
    ")\n",
    "#Convert IDW to point\n",
    "arcpy.conversion.RasterToPoint(\n",
    "    in_raster=\"temp_idw\",\n",
    "    out_point_features= os.path.join(db,\"temp_idw_point\"),\n",
    "    raster_field=\"Value\"\n",
    ")\n",
    "#Save IDW points to geodatabase\n",
    "arcpy.conversion.FeatureClassToGeodatabase(\n",
    "    Input_Features=\"temp_idw_point\",\n",
    "    Output_Geodatabase= os.path.join(arcpy.env.workspace,\"Lab3.sde\")\n",
    ")\n",
    "\n",
    "#Convert Kernel to point\n",
    "arcpy.conversion.RasterToPoint(\n",
    "    in_raster=\"temp_kernel\",\n",
    "    out_point_features= os.path.join(db, \"temp_kernel_point\"),\n",
    "    raster_field=\"Value\"\n",
    ")\n",
    "#Save Kernel points to geodatabase\n",
    "arcpy.conversion.FeatureClassToGeodatabase(\n",
    "    Input_Features=\"temp_kernel_point\",\n",
    "    Output_Geodatabase= os.path.join(arcpy.env.workspace,\"Lab3.sde\")\n",
    ")\n",
    "#Push exploratory table to geodatabase\n",
    "arcpy.conversion.TableToGeodatabase(\n",
    "    Input_Table=os.path.join(db, \"Temp_Explore_Interpolation\"),\n",
    "    Output_Geodatabase= os.path.join(arcpy.env.workspace,\"Lab3.sde\")\n",
    ")"
   ]
  },
  {
   "cell_type": "markdown",
   "metadata": {},
   "source": [
    "### Accuracy Assesment"
   ]
  },
  {
   "cell_type": "code",
   "execution_count": 56,
   "metadata": {},
   "outputs": [
    {
     "data": {
      "text/html": [
       "<div class='gpresult'><h2>Messages</h2><div id='messages' data-messages='[\"Start Time: Thursday, March 21, 2024 1:57:24 PM\",\"Temp_Accur Successfully converted:  \\\\\\\\Mac\\\\Home\\\\Documents\\\\ArcGIS\\\\Projects\\\\5572-Lab3\\\\Lab3.sde\\\\Temp_Accur\",\"Succeeded at Thursday, March 21, 2024 1:57:47 PM (Elapsed Time: 23.11 seconds)\"]' data-show='true'><div id = 'default' /></div></div>"
      ],
      "text/plain": [
       "<Result '\\\\\\\\Mac\\\\Home\\\\Documents\\\\ArcGIS\\\\Projects\\\\5572-Lab3\\\\Lab3.sde'>"
      ]
     },
     "execution_count": 56,
     "metadata": {},
     "output_type": "execute_result"
    }
   ],
   "source": [
    "#Stores difference from interpolation and truth. Kriging was best\n",
    "temp_point = os.path.join(db, \"Testing_Temp\")\n",
    "input_raster = os.path.join(db, \"temp_kriging\")  \n",
    "output = os.path.join(db, \"Temp_Accur\")  \n",
    "\n",
    "# Copy testing data\n",
    "arcpy.CopyFeatures_management(temp_point, output)\n",
    "\n",
    "# Extract raster values to the points dataset\n",
    "extracted_field = \"VALUE\"  \n",
    "arcpy.sa.ExtractValuesToPoints(\n",
    "    in_point_features=temp_point,\n",
    "    in_raster=input_raster,\n",
    "    out_point_features= output,\n",
    "    interpolate_values=\"NONE\",\n",
    "    add_attributes=\"VALUE_ONLY\"\n",
    ")\n",
    "\n",
    "#Calculate a  new field to find the difference between interpolation\n",
    "# and the actual ground truth\n",
    "point_value = \"value_max\"  \n",
    "difference = \"Difference\"  \n",
    "extracted_field_name = \"RASTERVALU\"\n",
    "arcpy.management.CalculateField(\n",
    "    in_table=\"Temp_Accur\",\n",
    "    field=difference,\n",
    "    expression=\"!value_max!-!RASTERVALU!\",\n",
    "    expression_type=\"PYTHON3\",\n",
    "    code_block=\"\",\n",
    "    field_type=\"LONG\",\n",
    "    enforce_domains=\"NO_ENFORCE_DOMAINS\"\n",
    ")\n",
    "\n",
    "#Save to geodatabase\n",
    "arcpy.conversion.FeatureClassToGeodatabase(\n",
    "    Input_Features=\"Temp_Accur\",\n",
    "    Output_Geodatabase= os.path.join(arcpy.env.workspace, \"Lab3.sde\")\n",
    ")  "
   ]
  }
 ],
 "metadata": {
  "kernelspec": {
   "display_name": "ArcGISPro",
   "language": "Python",
   "name": "python3"
  },
  "language_info": {
   "file_extension": ".py",
   "name": "python",
   "version": "3"
  }
 },
 "nbformat": 4,
 "nbformat_minor": 2
}
