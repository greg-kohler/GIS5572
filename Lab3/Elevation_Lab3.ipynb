{
 "cells": [
  {
   "cell_type": "code",
   "execution_count": 69,
   "metadata": {},
   "outputs": [],
   "source": [
    "import arcpy\n",
    "import psycopg2\n",
    "import os\n",
    "import random"
   ]
  },
  {
   "cell_type": "markdown",
   "metadata": {},
   "source": [
    "#### Get Current Directory and Create Geodatabase"
   ]
  },
  {
   "cell_type": "code",
   "execution_count": 8,
   "metadata": {
    "scrolled": true
   },
   "outputs": [
    {
     "name": "stdout",
     "output_type": "stream",
     "text": [
      "Geodatabase already exists.\n"
     ]
    }
   ],
   "source": [
    "directory = os.getcwd()\n",
    "arcpy.env.workspace = directory\n",
    "gdb = \"Lab3\"\n",
    "\n",
    "# Check if the geodatabase exists\n",
    "if not arcpy.Exists(gdb + \".gdb\"):\n",
    "    # Create the geodatabase\n",
    "    arcpy.CreateFileGDB_management(arcpy.env.workspace, gdb)\n",
    "    print(\"Geodatabase created.\")\n",
    "else:\n",
    "    print(\"Geodatabase already exists.\")\n",
    "    \n",
    "db = os.path.join(directory + \"\\Lab3.gdb\")"
   ]
  },
  {
   "cell_type": "markdown",
   "metadata": {},
   "source": [
    "### Connect to Cloud Geodatabase"
   ]
  },
  {
   "cell_type": "code",
   "execution_count": 58,
   "metadata": {},
   "outputs": [
    {
     "data": {
      "text/html": [
       "<div class='gpresult'><h2>Messages</h2><div id='messages' data-messages='[\"Start Time: Thursday, March 21, 2024 1:58:53 PM\",\"WARNING 000258: Output \\\\\\\\Mac\\\\Home\\\\Documents\\\\ArcGIS\\\\Projects\\\\5572-Lab3\\\\Lab3.sde already exists\",\"Succeeded at Thursday, March 21, 2024 1:58:59 PM (Elapsed Time: 6.31 seconds)\"]' data-show='true'><div id = 'default' /></div></div>"
      ],
      "text/plain": [
       "<Result '\\\\\\\\Mac\\\\Home\\\\Documents\\\\ArcGIS\\\\Projects\\\\5572-Lab3\\\\Lab3.sde'>"
      ]
     },
     "execution_count": 58,
     "metadata": {},
     "output_type": "execute_result"
    }
   ],
   "source": [
    "# Connect to the database\n",
    "connection = psycopg2.connect(\n",
    "    dbname=\"gis5572\",\n",
    "    user=user,\n",
    "    password=password,\n",
    "    host=host,\n",
    "    port=\"5432\"\n",
    ")\n",
    "\n",
    "#create connection to cloud database\n",
    "out_folder_path = arcpy.env.workspace\n",
    "out_name = \"Lab3.sde\"\n",
    "database_platform = \"POSTGRESQL\"\n",
    "instance = host\n",
    "account_authentication = \"DATABASE_AUTH\"\n",
    "username = user\n",
    "password = password\n",
    "save_user_pass = \"SAVE_USERNAME\"\n",
    "database = \"gis5572\"\n",
    "#actual database connection\n",
    "arcpy.management.CreateDatabaseConnection(out_folder_path, out_name, database_platform, instance, account_authentication, username, password, save_user_pass, database)"
   ]
  },
  {
   "cell_type": "markdown",
   "metadata": {},
   "source": [
    "### Get Elevation Data"
   ]
  },
  {
   "cell_type": "code",
   "execution_count": 59,
   "metadata": {},
   "outputs": [],
   "source": [
    "# Create cursor to go through data\n",
    "cursor = connection.cursor()\n",
    "# Get point data using query\n",
    "query = \"SELECT objectid, ST_AsText(shape), pointid, grid_code FROM elevation_point\"\n",
    "cursor.execute(query)\n",
    "rows = cursor.fetchall()\n",
    "\n",
    "# Create  feature class\n",
    "elevation_fc = os.path.join(db, \"elevation_points\")\n",
    "spatial_ref = arcpy.SpatialReference(26915)\n",
    "if arcpy.Exists(elevation_fc):\n",
    "    arcpy.Delete_management(elevation_fc)\n",
    "arcpy.CreateFeatureclass_management(db, \"elevation_points\", \"POINT\", spatial_reference=spatial_ref)\n",
    "\n",
    "# Add a field to store additional attributes if needed\n",
    "arcpy.AddField_management(elevation_fc, \"pointid\", \"LONG\")\n",
    "arcpy.AddField_management(elevation_fc, \"grid_code\", \"LONG\")\n",
    "\n",
    "# Create an insert cursor\n",
    "insert_cursor = arcpy.da.InsertCursor(elevation_fc, [\"Shape\", \"pointid\", \"grid_code\"])  \n",
    "\n",
    "# Iterate through the rows and insert points into the feature class\n",
    "for row in rows:\n",
    "    point_wkt = row[1]\n",
    "    pointid = row[2]\n",
    "    grid_code = row[3]\n",
    "    # Extract x, y coordinates from WKT\n",
    "    point_geom = arcpy.FromWKT(point_wkt, arcpy.SpatialReference(26915))\n",
    "    # Insert the point into the feature class\n",
    "    insert_cursor.insertRow([point_geom, pointid, grid_code])\n",
    "\n",
    "# Close cursors and connections\n",
    "del insert_cursor\n",
    "cursor.close()\n",
    "connection.close()"
   ]
  },
  {
   "cell_type": "markdown",
   "metadata": {},
   "source": [
    "## Sample\n",
    "\n",
    "Justification: By using 90% of the data to train the model, it gets enough information to understand the patterns and connections in the data. Having more data also helps to make the model less biased. This means it gives more accurate results. Keeping 10% of the data aside helps to check if the model's findings apply generally to different sets of data without just memorizing the training data. This way of splitting the data helps to test and confirm how well the model works, especially because real-world data can vary a lot. With more data, we can also spot any unusual things in the data and make sure the model still works well with the rest of the data"
   ]
  },
  {
   "cell_type": "code",
   "execution_count": 60,
   "metadata": {},
   "outputs": [],
   "source": [
    "# Input feature class\n",
    "elev_data = os.path.join(db, \"elevation_points\")\n",
    "\n",
    "# Get count of features in the input dataset\n",
    "count = int(arcpy.GetCount_management(elev_data).getOutput(0))\n",
    "\n",
    "# Number to sample ~10%\n",
    "sample_size = int(count / 10)\n",
    "\n",
    "# Generate random indices for selecting points\n",
    "randoms = random.sample(range(count), sample_size)\n",
    "\n",
    "# Create feature classes for training and testing samples\n",
    "training_fc = os.path.join(db, \"Training_Elev\")\n",
    "testing_fc = os.path.join(db, \"Testing_Elev\")\n",
    "\n",
    "# Check if feature classes exist and delete if they do\n",
    "for fc in [training_fc, testing_fc]:\n",
    "    if arcpy.Exists(fc):\n",
    "        arcpy.Delete_management(fc)\n",
    "\n",
    "# Create empty feature classes to store selected points\n",
    "for fc in [training_fc, testing_fc]:\n",
    "    arcpy.CreateFeatureclass_management(\n",
    "        out_path=os.path.dirname(fc),\n",
    "        out_name=os.path.basename(fc),\n",
    "        geometry_type=\"POINT\",\n",
    "        spatial_reference=arcpy.Describe(elev_data).spatialReference\n",
    "    )\n",
    "\n",
    "# Get fields from the temperature data and add them to the feature classes\n",
    "fields = [field.name for field in arcpy.ListFields(elev_data) if field.type not in [\"OID\", \"Geometry\"]]\n",
    "for field_name in fields:\n",
    "    for fc in [training_fc, testing_fc]:\n",
    "        arcpy.AddField_management(fc, field_name, arcpy.ListFields(elev_data, field_name)[0].type)\n",
    "\n",
    "# Insert selected points into the appropriate feature classes\n",
    "with arcpy.da.SearchCursor(elev_data, [\"SHAPE@\"] + fields) as search_cursor:\n",
    "    with arcpy.da.Editor(db) as editor:\n",
    "        with arcpy.da.InsertCursor(training_fc, [\"SHAPE@\"] + fields) as training_cursor, \\\n",
    "                arcpy.da.InsertCursor(testing_fc, [\"SHAPE@\"] + fields) as testing_cursor:\n",
    "            for index, row in enumerate(search_cursor):\n",
    "                if index in randoms:\n",
    "                    testing_cursor.insertRow(row)\n",
    "                else:\n",
    "                    training_cursor.insertRow(row)"
   ]
  },
  {
   "cell_type": "markdown",
   "metadata": {},
   "source": [
    "### Leave One Out"
   ]
  },
  {
   "cell_type": "code",
   "execution_count": 61,
   "metadata": {},
   "outputs": [
    {
     "data": {
      "text/html": [
       "<div class='gpresult'><h2>Messages</h2><div id='messages' data-messages='[\"Start Time: Thursday, March 21, 2024 2:01:44 PM\",\"Calculating Kernel Interpolation\",\"Calculating Inverse Distance Weighted - Default\",\"Calculating Inverse Distance Weighted - Optimized\",\"Calculating Universal Kriging – Default\",\"Calculating Universal Kriging – Optimized\",\" \\n\",\"--------------------------------------------\",\"RANK | NAME\",\"--------------------------------------------\",\"\\n\",\"1    | Universal Kriging – Default\",\"\\n\",\"2    | Universal Kriging – Optimized\",\"\\n\",\"3    | Kernel Interpolation\",\"\\n\",\"4    | Inverse Distance Weighted - Optimized\",\"\\n\",\"5    | Inverse Distance Weighted - Default\",\"--------------------------------------------\",\"Succeeded at Thursday, March 21, 2024 2:02:04 PM (Elapsed Time: 19.73 seconds)\"]' data-show='true'><div id = 'default' /></div></div>"
      ],
      "text/plain": [
       "<Result '\\\\\\\\Mac\\\\Home\\\\Documents\\\\ArcGIS\\\\Projects\\\\5572-Lab3\\\\Lab3.gdb\\\\Elev_Explore_Interpolation'>"
      ]
     },
     "execution_count": 61,
     "metadata": {},
     "output_type": "execute_result"
    }
   ],
   "source": [
    "# Uses the training data to find best method\n",
    "arcpy.ga.ExploratoryInterpolation(\n",
    "    in_features=\"Training_Elev\",\n",
    "    value_field=\"grid_code\",\n",
    "    out_cv_table= os.path.join(db, \"Elev_Explore_Interpolation\"),\n",
    "    out_geostat_layer=None,\n",
    "    interp_methods=\"KERNEL_INTERPOLATION;IDW;UNIVERSAL_KRIGING\",\n",
    "    comparison_method=\"SINGLE\",\n",
    "    criterion=\"ACCURACY\",\n",
    "    criteria_hierarchy=\"ACCURACY PERCENT #\",\n",
    "    weighted_criteria=\"ACCURACY 1\",\n",
    "    exclusion_criteria=None\n",
    ")"
   ]
  },
  {
   "cell_type": "markdown",
   "metadata": {},
   "source": [
    "#### Interpolation\n",
    "\n",
    "\n",
    "Kriging: \"An interpolation technique in which the surrounding measured values are weighted to derive a predicted value for an unmeasured location. Weights are based on the distance between the measured points, the prediction locations, and the overall spatial arrangement among the measured points (ESRI, 2024).\"\n",
    "\n",
    "Kernel Interpolation With Barriers: \"A moving window predictor that uses the shortest distance between points so that points on either side of the line barriers are connected.Kernel Interpolation is a variant of a first-order Local Polynomial Interpolation in which instability in the calculations is prevented using a method similar to the one used in the ridge regression to estimate the regression coefficients (ESRI, 2024).\"\n",
    "\n",
    "IDW: \"(IDW) interpolation determines cell values using a linearly weighted combination of a set of sample points. The weight is a function of inverse distance. The surface being interpolated should be that of a locationally dependent variable (ESRI, 2024).\""
   ]
  },
  {
   "cell_type": "code",
   "execution_count": 64,
   "metadata": {},
   "outputs": [],
   "source": [
    "#Kriging\n",
    "elev_kriging = arcpy.sa.Kriging(\n",
    "    in_point_features=\"Training_Elev\",\n",
    "    z_field=\"grid_code\",\n",
    "    kriging_model=\"Spherical # # # #\",\n",
    "    cell_size=9000,\n",
    "    search_radius=\"VARIABLE 12\",\n",
    "    out_variance_prediction_raster=None\n",
    ")\n",
    "elev_kriging.save(os.path.join(db, \"elev_kriging\"))"
   ]
  },
  {
   "cell_type": "code",
   "execution_count": 65,
   "metadata": {},
   "outputs": [],
   "source": [
    "#IDW\n",
    "elev_idw = arcpy.sa.Idw(\n",
    "    in_point_features=\"Training_Elev\",\n",
    "        z_field=\"grid_code\",\n",
    "        cell_size=9000,\n",
    "        power=2,\n",
    "        search_radius=\"VARIABLE 12\",\n",
    "        in_barrier_polyline_features=None\n",
    "    )\n",
    "elev_idw.save(os.path.join(db, \"elev_idw\"))"
   ]
  },
  {
   "cell_type": "code",
   "execution_count": 67,
   "metadata": {},
   "outputs": [
    {
     "data": {
      "text/html": [
       "<div class='gpresult'><h2>Messages</h2><div id='messages' data-messages='[\"Start Time: Thursday, March 21, 2024 2:07:01 PM\",\"Bandwidth = 23775.643360983762\",\"Succeeded at Thursday, March 21, 2024 2:07:20 PM (Elapsed Time: 19.25 seconds)\"]' data-show='true'><div id = 'default' /></div></div>"
      ],
      "text/plain": [
       "<Result 'None'>"
      ]
     },
     "execution_count": 67,
     "metadata": {},
     "output_type": "execute_result"
    }
   ],
   "source": [
    "#Kernel\n",
    "arcpy.ga.KernelInterpolationWithBarriers(\n",
    "    in_features=\"Training_Elev\",\n",
    "    z_field=\"grid_code\",\n",
    "    out_ga_layer=\"None\",\n",
    "    out_raster=os.path.join(db, \"Elev_Kernel\"),\n",
    "    cell_size=9000,\n",
    "    in_barrier_features=None,\n",
    "    kernel_function=\"POLYNOMIAL5\",\n",
    "    bandwidth=None,\n",
    "    power=1,\n",
    "    ridge=50,\n",
    "    output_type=\"PREDICTION\"\n",
    ")"
   ]
  },
  {
   "cell_type": "markdown",
   "metadata": {},
   "source": [
    "### Save Interpolated Maps to Geodatabase"
   ]
  },
  {
   "cell_type": "code",
   "execution_count": 70,
   "metadata": {},
   "outputs": [
    {
     "data": {
      "text/html": [
       "<div class='gpresult'><h2>Messages</h2><div id='messages' data-messages='[\"Start Time: Thursday, March 21, 2024 2:18:08 PM\",\"Converted \\\\\\\\Mac\\\\Home\\\\Documents\\\\ArcGIS\\\\Projects\\\\5572-Lab3\\\\Lab3.gdb\\\\Elev_Explore_Interpolation to \\\\\\\\Mac\\\\Home\\\\Documents\\\\ArcGIS\\\\Projects\\\\5572-Lab3\\\\Lab3.sde\\\\Elev_Explore_Interpolation successfully.\",\"Succeeded at Thursday, March 21, 2024 2:18:31 PM (Elapsed Time: 22.59 seconds)\"]' data-show='true'><div id = 'default' /></div></div>"
      ],
      "text/plain": [
       "<Result '\\\\\\\\Mac\\\\Home\\\\Documents\\\\ArcGIS\\\\Projects\\\\5572-Lab3\\\\Lab3.sde'>"
      ]
     },
     "execution_count": 70,
     "metadata": {},
     "output_type": "execute_result"
    }
   ],
   "source": [
    "#Convert Kriging to point\n",
    "arcpy.conversion.RasterToPoint(\n",
    "    in_raster=\"elev_kriging\",\n",
    "    out_point_features= os.path.join(db, \"elev_kriging_point\"),\n",
    "    raster_field=\"Value\"\n",
    ")\n",
    "#Save Kriging points to geodatabase\n",
    "arcpy.conversion.FeatureClassToGeodatabase(\n",
    "    Input_Features=\"elev_kriging_point\",\n",
    "    Output_Geodatabase= os.path.join(arcpy.env.workspace,\"Lab3.sde\")\n",
    ")\n",
    "#Convert IDW to point\n",
    "arcpy.conversion.RasterToPoint(\n",
    "    in_raster=\"elev_idw\",\n",
    "    out_point_features= os.path.join(db,\"elev_idw_point\"),\n",
    "    raster_field=\"Value\"\n",
    ")\n",
    "#Save IDW points to geodatabase\n",
    "arcpy.conversion.FeatureClassToGeodatabase(\n",
    "    Input_Features=\"elev_idw_point\",\n",
    "    Output_Geodatabase= os.path.join(arcpy.env.workspace,\"Lab3.sde\")\n",
    ")\n",
    "\n",
    "#Convert Kernel to point\n",
    "arcpy.conversion.RasterToPoint(\n",
    "    in_raster=\"elev_kernel\",\n",
    "    out_point_features= os.path.join(db, \"elev_kernel_point\"),\n",
    "    raster_field=\"Value\"\n",
    ")\n",
    "#Save Kernel points to geodatabase\n",
    "arcpy.conversion.FeatureClassToGeodatabase(\n",
    "    Input_Features=\"elev_kernel_point\",\n",
    "    Output_Geodatabase= os.path.join(arcpy.env.workspace,\"Lab3.sde\")\n",
    ")\n",
    "#Push exploratory table to geodatabase\n",
    "arcpy.conversion.TableToGeodatabase(\n",
    "    Input_Table=os.path.join(db, \"Elev_Explore_Interpolation\"),\n",
    "    Output_Geodatabase= os.path.join(arcpy.env.workspace,\"Lab3.sde\")\n",
    ")"
   ]
  },
  {
   "cell_type": "markdown",
   "metadata": {},
   "source": [
    "### Accuracy Assessment"
   ]
  },
  {
   "cell_type": "code",
   "execution_count": 71,
   "metadata": {},
   "outputs": [
    {
     "data": {
      "text/html": [
       "<div class='gpresult'><h2>Messages</h2><div id='messages' data-messages='[\"Start Time: Thursday, March 21, 2024 2:20:29 PM\",\"Elev_Accur Successfully converted:  \\\\\\\\Mac\\\\Home\\\\Documents\\\\ArcGIS\\\\Projects\\\\5572-Lab3\\\\Lab3.sde\\\\Elev_Accur\",\"Succeeded at Thursday, March 21, 2024 2:20:58 PM (Elapsed Time: 28.64 seconds)\"]' data-show='true'><div id = 'default' /></div></div>"
      ],
      "text/plain": [
       "<Result '\\\\\\\\Mac\\\\Home\\\\Documents\\\\ArcGIS\\\\Projects\\\\5572-Lab3\\\\Lab3.sde'>"
      ]
     },
     "execution_count": 71,
     "metadata": {},
     "output_type": "execute_result"
    }
   ],
   "source": [
    "#Stores difference from interpolation and truth. Kriging was best\n",
    "elev_point = os.path.join(db, \"Testing_Elev\")\n",
    "input_raster = os.path.join(db, \"elev_kriging\")  \n",
    "output = os.path.join(db, \"Elev_Accur\")  \n",
    "\n",
    "# Copy testing data\n",
    "arcpy.CopyFeatures_management(elev_point, output)\n",
    "\n",
    "# Extract raster values to points\n",
    "extracted_field = \"VALUE\"  \n",
    "arcpy.sa.ExtractValuesToPoints(\n",
    "    in_point_features=elev_point,\n",
    "    in_raster=input_raster,\n",
    "    out_point_features= output,\n",
    "    interpolate_values=\"NONE\",\n",
    "    add_attributes=\"VALUE_ONLY\"\n",
    ")\n",
    "\n",
    "#Calculate a  new field to find the difference between interpolation\n",
    "# and the actual ground truth\n",
    "point_value = \"grid_code\"  \n",
    "difference = \"Difference\"  \n",
    "extracted_field_name = \"RASTERVALU\"\n",
    "arcpy.management.CalculateField(\n",
    "    in_table=\"Elev_Accur\",\n",
    "    field=difference,\n",
    "    expression=\"!grid_code!-!RASTERVALU!\",\n",
    "    expression_type=\"PYTHON3\",\n",
    "    code_block=\"\",\n",
    "    field_type=\"LONG\",\n",
    "    enforce_domains=\"NO_ENFORCE_DOMAINS\"\n",
    ")\n",
    "\n",
    "#Save to geodatabase\n",
    "arcpy.conversion.FeatureClassToGeodatabase(\n",
    "    Input_Features=\"Elev_Accur\",\n",
    "    Output_Geodatabase= os.path.join(arcpy.env.workspace, \"Lab3.sde\")\n",
    ")  "
   ]
  }
 ],
 "metadata": {
  "kernelspec": {
   "display_name": "ArcGISPro",
   "language": "Python",
   "name": "python3"
  },
  "language_info": {
   "file_extension": ".py",
   "name": "python",
   "version": "3"
  }
 },
 "nbformat": 4,
 "nbformat_minor": 2
}
